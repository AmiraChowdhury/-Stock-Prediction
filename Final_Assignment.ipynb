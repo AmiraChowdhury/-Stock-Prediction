{
  "cells": [
    {
      "cell_type": "markdown",
      "metadata": {
        "id": "aa187149-dadf-4188-8c39-a8d7d3687c45"
      },
      "source": [
        "<p style=\"text-align:center\">\n",
        "    <a href=\"https://skills.network/?utm_medium=Exinfluencer&utm_source=Exinfluencer&utm_content=000026UJ&utm_term=10006555&utm_id=NA-SkillsNetwork-Channel-SkillsNetworkCoursesIBMDeveloperSkillsNetworkPY0220ENSkillsNetwork900-2022-01-01\" target=\"_blank\">\n",
        "    <img src=\"https://cf-courses-data.s3.us.cloud-object-storage.appdomain.cloud/assets/logos/SN_web_lightmode.png\" width=\"200\" alt=\"Skills Network Logo\">\n",
        "    </a>\n",
        "</p>\n"
      ]
    },
    {
      "cell_type": "markdown",
      "metadata": {
        "id": "10bf47eb-4157-46ab-bf34-11760c27187c"
      },
      "source": [
        "<h1>Extracting and Visualizing Stock Data</h1>\n",
        "<h2>Description</h2>\n"
      ]
    },
    {
      "cell_type": "markdown",
      "metadata": {
        "id": "3523f97d-8349-48a0-a0a2-b0ddcabb5d74"
      },
      "source": [
        "Extracting essential data from a dataset and displaying it is a necessary part of data science; therefore individuals can make correct decisions based on the data. In this assignment, you will extract some stock data, you will then display this data in a graph.\n"
      ]
    },
    {
      "cell_type": "markdown",
      "metadata": {
        "id": "ea4b58ef-f5fb-47c0-9695-4824b3993436"
      },
      "source": [
        "<h2>Table of Contents</h2>\n",
        "<div class=\"alert alert-block alert-info\" style=\"margin-top: 20px\">\n",
        "    <ul>\n",
        "        <li>Define a Function that Makes a Graph</li>\n",
        "        <li>Question 1: Use yfinance to Extract Stock Data</li>\n",
        "        <li>Question 2: Use Webscraping to Extract Tesla Revenue Data</li>\n",
        "        <li>Question 3: Use yfinance to Extract Stock Data</li>\n",
        "        <li>Question 4: Use Webscraping to Extract GME Revenue Data</li>\n",
        "        <li>Question 5: Plot Tesla Stock Graph</li>\n",
        "        <li>Question 6: Plot GameStop Stock Graph</li>\n",
        "    </ul>\n",
        "<p>\n",
        "    Estimated Time Needed: <strong>30 min</strong></p>\n",
        "</div>\n",
        "\n",
        "<hr>\n"
      ]
    },
    {
      "cell_type": "markdown",
      "metadata": {
        "id": "4b4b923b-46df-4c9f-8f23-c1a173844e20"
      },
      "source": [
        "***Note***:- If you are working Locally using anaconda, please uncomment the following code and execute it.\n"
      ]
    },
    {
      "cell_type": "code",
      "metadata": {
        "id": "89133bf7-030b-49d1-866a-5b0343984f8c"
      },
      "outputs": [],
      "source": [
        "#!pip install yfinance==0.2.38\n",
        "#!pip install pandas==2.2.2\n",
        "#!pip install nbformat"
      ],
      "execution_count": 1
    },
    {
      "cell_type": "code",
      "metadata": {
        "colab": {
          "base_uri": "https://localhost:8080/"
        },
        "id": "f457c8a6-4de8-42c2-a76f-8651b8e96d71",
        "outputId": "5224c2fd-0665-496f-8823-aceb0e9a087f"
      },
      "outputs": [
        {
          "output_type": "stream",
          "name": "stdout",
          "text": [
            "Requirement already satisfied: yfinance in /usr/local/lib/python3.10/dist-packages (0.2.43)\n",
            "Requirement already satisfied: pandas>=1.3.0 in /usr/local/lib/python3.10/dist-packages (from yfinance) (2.1.4)\n",
            "Requirement already satisfied: numpy>=1.16.5 in /usr/local/lib/python3.10/dist-packages (from yfinance) (1.26.4)\n",
            "Requirement already satisfied: requests>=2.31 in /usr/local/lib/python3.10/dist-packages (from yfinance) (2.32.3)\n",
            "Requirement already satisfied: multitasking>=0.0.7 in /usr/local/lib/python3.10/dist-packages (from yfinance) (0.0.11)\n",
            "Requirement already satisfied: lxml>=4.9.1 in /usr/local/lib/python3.10/dist-packages (from yfinance) (4.9.4)\n",
            "Requirement already satisfied: platformdirs>=2.0.0 in /usr/local/lib/python3.10/dist-packages (from yfinance) (4.3.2)\n",
            "Requirement already satisfied: pytz>=2022.5 in /usr/local/lib/python3.10/dist-packages (from yfinance) (2024.1)\n",
            "Requirement already satisfied: frozendict>=2.3.4 in /usr/local/lib/python3.10/dist-packages (from yfinance) (2.4.4)\n",
            "Requirement already satisfied: peewee>=3.16.2 in /usr/local/lib/python3.10/dist-packages (from yfinance) (3.17.6)\n",
            "Requirement already satisfied: beautifulsoup4>=4.11.1 in /usr/local/lib/python3.10/dist-packages (from yfinance) (4.12.3)\n",
            "Requirement already satisfied: html5lib>=1.1 in /usr/local/lib/python3.10/dist-packages (from yfinance) (1.1)\n",
            "Requirement already satisfied: soupsieve>1.2 in /usr/local/lib/python3.10/dist-packages (from beautifulsoup4>=4.11.1->yfinance) (2.6)\n",
            "Requirement already satisfied: six>=1.9 in /usr/local/lib/python3.10/dist-packages (from html5lib>=1.1->yfinance) (1.16.0)\n",
            "Requirement already satisfied: webencodings in /usr/local/lib/python3.10/dist-packages (from html5lib>=1.1->yfinance) (0.5.1)\n",
            "Requirement already satisfied: python-dateutil>=2.8.2 in /usr/local/lib/python3.10/dist-packages (from pandas>=1.3.0->yfinance) (2.8.2)\n",
            "Requirement already satisfied: tzdata>=2022.1 in /usr/local/lib/python3.10/dist-packages (from pandas>=1.3.0->yfinance) (2024.1)\n",
            "Requirement already satisfied: charset-normalizer<4,>=2 in /usr/local/lib/python3.10/dist-packages (from requests>=2.31->yfinance) (3.3.2)\n",
            "Requirement already satisfied: idna<4,>=2.5 in /usr/local/lib/python3.10/dist-packages (from requests>=2.31->yfinance) (3.8)\n",
            "Requirement already satisfied: urllib3<3,>=1.21.1 in /usr/local/lib/python3.10/dist-packages (from requests>=2.31->yfinance) (2.0.7)\n",
            "Requirement already satisfied: certifi>=2017.4.17 in /usr/local/lib/python3.10/dist-packages (from requests>=2.31->yfinance) (2024.8.30)\n",
            "Collecting bs4\n",
            "  Downloading bs4-0.0.2-py2.py3-none-any.whl.metadata (411 bytes)\n",
            "Requirement already satisfied: beautifulsoup4 in /usr/local/lib/python3.10/dist-packages (from bs4) (4.12.3)\n",
            "Requirement already satisfied: soupsieve>1.2 in /usr/local/lib/python3.10/dist-packages (from beautifulsoup4->bs4) (2.6)\n",
            "Downloading bs4-0.0.2-py2.py3-none-any.whl (1.2 kB)\n",
            "Installing collected packages: bs4\n",
            "Successfully installed bs4-0.0.2\n",
            "Requirement already satisfied: nbformat in /usr/local/lib/python3.10/dist-packages (5.10.4)\n",
            "Requirement already satisfied: fastjsonschema>=2.15 in /usr/local/lib/python3.10/dist-packages (from nbformat) (2.20.0)\n",
            "Requirement already satisfied: jsonschema>=2.6 in /usr/local/lib/python3.10/dist-packages (from nbformat) (4.23.0)\n",
            "Requirement already satisfied: jupyter-core!=5.0.*,>=4.12 in /usr/local/lib/python3.10/dist-packages (from nbformat) (5.7.2)\n",
            "Requirement already satisfied: traitlets>=5.1 in /usr/local/lib/python3.10/dist-packages (from nbformat) (5.7.1)\n",
            "Requirement already satisfied: attrs>=22.2.0 in /usr/local/lib/python3.10/dist-packages (from jsonschema>=2.6->nbformat) (24.2.0)\n",
            "Requirement already satisfied: jsonschema-specifications>=2023.03.6 in /usr/local/lib/python3.10/dist-packages (from jsonschema>=2.6->nbformat) (2023.12.1)\n",
            "Requirement already satisfied: referencing>=0.28.4 in /usr/local/lib/python3.10/dist-packages (from jsonschema>=2.6->nbformat) (0.35.1)\n",
            "Requirement already satisfied: rpds-py>=0.7.1 in /usr/local/lib/python3.10/dist-packages (from jsonschema>=2.6->nbformat) (0.20.0)\n",
            "Requirement already satisfied: platformdirs>=2.5 in /usr/local/lib/python3.10/dist-packages (from jupyter-core!=5.0.*,>=4.12->nbformat) (4.3.2)\n"
          ]
        }
      ],
      "source": [
        "!pip install yfinance\n",
        "!pip install bs4\n",
        "!pip install nbformat"
      ],
      "execution_count": 2
    },
    {
      "cell_type": "code",
      "metadata": {
        "id": "a284503f-17a6-40d6-a558-63cd1e15de12"
      },
      "outputs": [],
      "source": [
        "import yfinance as yf\n",
        "import pandas as pd\n",
        "import requests\n",
        "from bs4 import BeautifulSoup\n",
        "import plotly.graph_objects as go\n",
        "from plotly.subplots import make_subplots"
      ],
      "execution_count": 3
    },
    {
      "cell_type": "markdown",
      "metadata": {
        "id": "b5ec07f4-f185-4b61-bfb4-179a64c14f5b"
      },
      "source": [
        "In Python, you can ignore warnings using the warnings module. You can use the filterwarnings function to filter or ignore specific warning messages or categories.\n"
      ]
    },
    {
      "cell_type": "code",
      "metadata": {
        "id": "c048f3c7-3ddf-4687-b58e-4c818010b902"
      },
      "outputs": [],
      "source": [
        "import warnings\n",
        "# Ignore all warnings\n",
        "warnings.filterwarnings(\"ignore\", category=FutureWarning)"
      ],
      "execution_count": 4
    },
    {
      "cell_type": "markdown",
      "metadata": {
        "id": "650d18a7-84c5-4f86-b756-08533e20d0da"
      },
      "source": [
        "## Define Graphing Function\n"
      ]
    },
    {
      "cell_type": "markdown",
      "metadata": {
        "id": "e88193b0-e644-4a34-ae88-3375a6b67d41"
      },
      "source": [
        "In this section, we define the function `make_graph`. **You don't have to know how the function works, you should only care about the inputs. It takes a dataframe with stock data (dataframe must contain Date and Close columns), a dataframe with revenue data (dataframe must contain Date and Revenue columns), and the name of the stock.**\n"
      ]
    },
    {
      "cell_type": "code",
      "metadata": {
        "id": "bbf60624-48dc-4100-a2df-cf8878db53c2"
      },
      "outputs": [],
      "source": [
        "def make_graph(stock_data, revenue_data, stock):\n",
        "    fig = make_subplots(rows=2, cols=1, shared_xaxes=True, subplot_titles=(\"Historical Share Price\", \"Historical Revenue\"), vertical_spacing = .3)\n",
        "    stock_data_specific = stock_data[stock_data.Date <= '2021--06-14']\n",
        "    revenue_data_specific = revenue_data[revenue_data.Date <= '2021-04-30']\n",
        "    fig.add_trace(go.Scatter(x=pd.to_datetime(stock_data_specific.Date), y=stock_data_specific.Close.astype(\"float\"), name=\"Share Price\"), row=1, col=1)\n",
        "    fig.add_trace(go.Scatter(x=pd.to_datetime(revenue_data_specific.Date), y=revenue_data_specific.Revenue.astype(\"float\"), name=\"Revenue\"), row=2, col=1)\n",
        "    fig.update_xaxes(title_text=\"Date\", row=1, col=1)\n",
        "    fig.update_xaxes(title_text=\"Date\", row=2, col=1)\n",
        "    fig.update_yaxes(title_text=\"Price ($US)\", row=1, col=1)\n",
        "    fig.update_yaxes(title_text=\"Revenue ($US Millions)\", row=2, col=1)\n",
        "    fig.update_layout(showlegend=False,\n",
        "    height=900,\n",
        "    title=stock,\n",
        "    xaxis_rangeslider_visible=True)\n",
        "    fig.show()"
      ],
      "execution_count": 5
    },
    {
      "cell_type": "markdown",
      "metadata": {
        "id": "434d3253-4697-4570-894b-31f8041d00ce"
      },
      "source": [
        "Use the make_graph function that we’ve already defined. You’ll need to invoke it in questions 5 and 6 to display the graphs and create the dashboard.\n",
        "> **Note: You don’t need to redefine the function for plotting graphs anywhere else in this notebook; just use the existing function.**\n"
      ]
    },
    {
      "cell_type": "markdown",
      "metadata": {
        "id": "4e1fab34-e7c6-4877-8172-b5f4e9c86557"
      },
      "source": [
        "## Question 1: Use yfinance to Extract Stock Data\n"
      ]
    },
    {
      "cell_type": "markdown",
      "metadata": {
        "id": "d5908b7e-e4fc-45fa-909e-a9e35e2177b7"
      },
      "source": [
        "Using the `Ticker` function enter the ticker symbol of the stock we want to extract data on to create a ticker object. The stock is Tesla and its ticker symbol is `TSLA`.\n"
      ]
    },
    {
      "cell_type": "code",
      "metadata": {
        "id": "6c74c251-cd7c-4409-98b8-a28fe4aeb5b6"
      },
      "outputs": [],
      "source": [
        "import yfinance as yf\n",
        "\n",
        "# Create a ticker object for Tesla (TSLA)\n",
        "ticker = yf.Ticker(\"TSLA\")"
      ],
      "execution_count": 6
    },
    {
      "cell_type": "markdown",
      "metadata": {
        "id": "287cffc3-4554-452b-a222-17bf0c8ca523"
      },
      "source": [
        "Using the ticker object and the function `history` extract stock information and save it in a dataframe named `tesla_data`. Set the `period` parameter to ` \"max\" ` so we get information for the maximum amount of time.\n"
      ]
    },
    {
      "cell_type": "code",
      "metadata": {
        "colab": {
          "base_uri": "https://localhost:8080/"
        },
        "id": "4c88b333-72c2-4f28-88d6-41f32937f70e",
        "outputId": "4c29adb6-2a9b-46e9-d5ba-ed5776840ffe"
      },
      "outputs": [
        {
          "output_type": "stream",
          "name": "stderr",
          "text": [
            "\r[*********************100%***********************]  1 of 1 completed\n"
          ]
        }
      ],
      "source": [
        "tesla_data = yf.download('TSLA', period='max')"
      ],
      "execution_count": 7
    },
    {
      "cell_type": "markdown",
      "metadata": {
        "id": "7a823fc2-d9f8-49b9-9490-ff1d52a6213c"
      },
      "source": [
        "**Reset the index** using the `reset_index(inplace=True)` function on the tesla_data DataFrame and display the first five rows of the `tesla_data` dataframe using the `head` function. Take a screenshot of the results and code from the beginning of Question 1 to the results below.\n"
      ]
    },
    {
      "cell_type": "code",
      "metadata": {
        "colab": {
          "base_uri": "https://localhost:8080/"
        },
        "id": "9bcfeb3d-f1ee-49d5-b9af-aca03350d5f9",
        "outputId": "68ba95e1-6671-42bf-a694-f664757bddcd"
      },
      "outputs": [
        {
          "output_type": "stream",
          "name": "stdout",
          "text": [
            "        Date      Open      High       Low     Close  Adj Close     Volume\n",
            "0 2010-06-29  1.266667  1.666667  1.169333  1.592667   1.592667  281494500\n",
            "1 2010-06-30  1.719333  2.028000  1.553333  1.588667   1.588667  257806500\n",
            "2 2010-07-01  1.666667  1.728000  1.351333  1.464000   1.464000  123282000\n",
            "3 2010-07-02  1.533333  1.540000  1.247333  1.280000   1.280000   77097000\n",
            "4 2010-07-06  1.333333  1.333333  1.055333  1.074000   1.074000  103003500\n"
          ]
        }
      ],
      "source": [
        "tesla_data.reset_index(inplace=True)\n",
        "tesla_data.to_csv('tesla_stock_data.csv', index=False)\n",
        "# Display the first five rows\n",
        "print(tesla_data.head(5))"
      ],
      "execution_count": 8
    },
    {
      "cell_type": "markdown",
      "metadata": {
        "id": "9fc7053f-f00c-4572-b757-85b9255ba69b"
      },
      "source": [
        "## Question 2: Use Webscraping to Extract Tesla Revenue Data\n"
      ]
    },
    {
      "cell_type": "markdown",
      "metadata": {
        "id": "a3b6fcf4-99af-480c-ad42-f5c90986ea37"
      },
      "source": [
        "Use the `requests` library to download the webpage https://cf-courses-data.s3.us.cloud-object-storage.appdomain.cloud/IBMDeveloperSkillsNetwork-PY0220EN-SkillsNetwork/labs/project/revenue.htm Save the text of the response as a variable named `html_data`.\n"
      ]
    },
    {
      "cell_type": "code",
      "metadata": {
        "colab": {
          "base_uri": "https://localhost:8080/"
        },
        "id": "a4228af6-b84e-4928-963f-5131d476ea3d",
        "outputId": "89910c2e-1a36-4ce5-e692-9841a4f38b6f"
      },
      "outputs": [
        {
          "output_type": "stream",
          "name": "stdout",
          "text": [
            "\n",
            "<!DOCTYPE html>\n",
            "<!--[if lt IE 7]>      <html class=\"no-js lt-ie9 lt-ie8 lt-ie7\"> <![endif]-->\n",
            "<!--[if IE 7]>         <html class=\"no-js lt-ie9 lt-ie8\"> <![endif]-->\n",
            "<!--[if IE 8]>         <html class=\"no-js lt-ie9\"> <![endif]-->\n",
            "<!--[if gt IE 8]><!--> <html class=\"no-js\"> <!--<![endif]-->\n",
            "    <head>\n",
            "        <meta charset=\"utf-8\">\n",
            "        <meta http-equiv=\"X-UA-Compatible\" content=\"IE=edge,chrome=1\">\n",
            "\t\t<link rel=\"canonical\" href=\"https://www.macrotrends.net/stocks/charts/TSLA/tesla/revenue\" />\n",
            "\t\n"
          ]
        }
      ],
      "source": [
        "import requests\n",
        "\n",
        "# URL of the webpage to download\n",
        "url = 'https://cf-courses-data.s3.us.cloud-object-storage.appdomain.cloud/IBMDeveloperSkillsNetwork-PY0220EN-SkillsNetwork/labs/project/revenue.htm'\n",
        "\n",
        "# Send an HTTP GET request to the URL\n",
        "response = requests.get(url)\n",
        "\n",
        "# Check if the request was successful\n",
        "if response.status_code == 200:\n",
        "    # Save the text of the response as a variable named html_data\n",
        "    html_data = response.text\n",
        "    # Print the first 500 characters of the html_data to verify\n",
        "    print(html_data[:500])\n",
        "else:\n",
        "    print(f\"Failed to retrieve the webpage. Status code: {response.status_code}\")"
      ],
      "execution_count": 9
    },
    {
      "cell_type": "markdown",
      "metadata": {
        "id": "50176844-a2db-4107-b308-4e7a91989934"
      },
      "source": [
        "Parse the html data using `beautiful_soup` using parser i.e `html5lib` or `html.parser`. Make sure to use the `html_data` with the content parameter as follow `html_data.content` .\n"
      ]
    },
    {
      "cell_type": "code",
      "metadata": {
        "colab": {
          "base_uri": "https://localhost:8080/"
        },
        "id": "79457109-6276-4cc1-b1e1-00c38dc280c2",
        "outputId": "d6899e0b-11a5-45c1-c232-7d9b4831e2e3"
      },
      "outputs": [
        {
          "output_type": "stream",
          "name": "stdout",
          "text": [
            "Tesla Revenue 2010-2022 | TSLA | MacroTrends\n"
          ]
        }
      ],
      "source": [
        "from bs4 import BeautifulSoup\n",
        "\n",
        "# Parse HTML data with BeautifulSoup using 'html.parser'\n",
        "soup = BeautifulSoup(html_data, 'html.parser')\n",
        "\n",
        "# Print the title of the page to verify successful parsing\n",
        "print(soup.title.string)"
      ],
      "execution_count": 10
    },
    {
      "cell_type": "markdown",
      "metadata": {
        "id": "2ecd176c-0aa7-4ca8-8484-215b010e1eae"
      },
      "source": [
        "Using `BeautifulSoup` or the `read_html` function extract the table with `Tesla Revenue` and store it into a dataframe named `tesla_revenue`. The dataframe should have columns `Date` and `Revenue`.\n"
      ]
    },
    {
      "cell_type": "markdown",
      "metadata": {
        "id": "c41d9ad2-ac02-458b-839d-cd950602c0a2"
      },
      "source": [
        "<details><summary>Step-by-step instructions</summary>\n",
        "\n",
        "```\n",
        "\n",
        "Here are the step-by-step instructions:\n",
        "\n",
        "1. Find All Tables: Start by searching for all HTML tables on a webpage using `soup.find_all('table')`.\n",
        "2. Identify the Relevant Table: then loops through each table. If a table contains the text “Tesla Quarterly Revenue,”, select that table.\n",
        "3. Initialize a DataFrame: Create an empty Pandas DataFrame called `tesla_revenue` with columns “Date” and “Revenue.”\n",
        "4. Loop Through Rows: For each row in the relevant table, extract the data from the first and second columns (date and revenue).\n",
        "5. Clean Revenue Data: Remove dollar signs and commas from the revenue value.\n",
        "6. Add Rows to DataFrame: Create a new row in the DataFrame with the extracted date and cleaned revenue values.\n",
        "7. Repeat for All Rows: Continue this process for all rows in the table.\n",
        "\n",
        "```\n",
        "</details>\n"
      ]
    },
    {
      "cell_type": "markdown",
      "metadata": {
        "id": "af05f799-a22d-4cfc-bc0e-8234b02e261e"
      },
      "source": [
        "<details><summary>Click here if you need help locating the table</summary>\n",
        "\n",
        "```\n",
        "    \n",
        "Below is the code to isolate the table, you will now need to loop through the rows and columns like in the previous lab\n",
        "    \n",
        "soup.find_all(\"tbody\")[1]\n",
        "    \n",
        "If you want to use the read_html function the table is located at index 1\n",
        "\n",
        "We are focusing on quarterly revenue in the lab.\n",
        "> Note: Instead of using the deprecated pd.append() method, consider using pd.concat([df, pd.DataFrame], ignore_index=True).\n",
        "```\n",
        "\n",
        "</details>\n"
      ]
    },
    {
      "cell_type": "code",
      "metadata": {
        "colab": {
          "base_uri": "https://localhost:8080/"
        },
        "id": "33500a3a-9494-44b4-a56a-45cd547b6b66",
        "outputId": "e5e9377e-5ef3-463d-c9b6-8be1c4b8a6aa"
      },
      "outputs": [
        {
          "output_type": "stream",
          "name": "stdout",
          "text": [
            "          Date Revenue\n",
            "0   2022-09-30   21454\n",
            "1   2022-06-30   16934\n",
            "2   2022-03-31   18756\n",
            "3   2021-12-31   17719\n",
            "4   2021-09-30   13757\n",
            "5   2021-06-30   11958\n",
            "6   2021-03-31   10389\n",
            "7   2020-12-31   10744\n",
            "8   2020-09-30    8771\n",
            "9   2020-06-30    6036\n",
            "10  2020-03-31    5985\n",
            "11  2019-12-31    7384\n",
            "12  2019-09-30    6303\n",
            "13  2019-06-30    6350\n",
            "14  2019-03-31    4541\n",
            "15  2018-12-31    7226\n",
            "16  2018-09-30    6824\n",
            "17  2018-06-30    4002\n",
            "18  2018-03-31    3409\n",
            "19  2017-12-31    3288\n",
            "20  2017-09-30    2985\n",
            "21  2017-06-30    2790\n",
            "22  2017-03-31    2696\n",
            "23  2016-12-31    2285\n",
            "24  2016-09-30    2298\n",
            "25  2016-06-30    1270\n",
            "26  2016-03-31    1147\n",
            "27  2015-12-31    1214\n",
            "28  2015-09-30     937\n",
            "29  2015-06-30     955\n",
            "30  2015-03-31     940\n",
            "31  2014-12-31     957\n",
            "32  2014-09-30     852\n",
            "33  2014-06-30     769\n",
            "34  2014-03-31     621\n",
            "35  2013-12-31     615\n",
            "36  2013-09-30     431\n",
            "37  2013-06-30     405\n",
            "38  2013-03-31     562\n",
            "39  2012-12-31     306\n",
            "40  2012-09-30      50\n",
            "41  2012-06-30      27\n",
            "42  2012-03-31      30\n",
            "43  2011-12-31      39\n",
            "44  2011-09-30      58\n",
            "45  2011-06-30      58\n",
            "46  2011-03-31      49\n",
            "47  2010-12-31      36\n",
            "48  2010-09-30      31\n",
            "49  2010-06-30      28\n",
            "50  2010-03-31      21\n",
            "51  2009-12-31        \n",
            "52  2009-09-30      46\n",
            "53  2009-06-30      27\n"
          ]
        }
      ],
      "source": [
        "table = soup.find_all('table')[1]\n",
        "\n",
        "# Initialize DataFrame\n",
        "tesla_revenue = pd.DataFrame(columns=[\"Date\", \"Revenue\"])\n",
        "\n",
        "# Extract data\n",
        "rows = table.find_all('tr')\n",
        "for row in rows[1:]:\n",
        "    cols = row.find_all('td')\n",
        "    if len(cols) > 1:\n",
        "        date = cols[0].text.strip()\n",
        "        revenue = cols[1].text.strip().replace('$', '').replace(',', '')\n",
        "        tesla_revenue = pd.concat([tesla_revenue, pd.DataFrame([[date, revenue]], columns=[\"Date\", \"Revenue\"])], ignore_index=True)\n",
        "\n",
        "# Display the DataFrame\n",
        "print(tesla_revenue)"
      ],
      "execution_count": 11
    },
    {
      "cell_type": "markdown",
      "metadata": {
        "id": "9968dda9-ee9c-4dbd-98ab-70645ca4c3f4"
      },
      "source": [
        "Execute the following line to remove the comma and dollar sign from the `Revenue` column.\n"
      ]
    },
    {
      "cell_type": "code",
      "metadata": {
        "id": "28dcdee7-a459-43e3-9bab-48bc4a78bbac"
      },
      "outputs": [],
      "source": [
        "tesla_revenue[\"Revenue\"] = tesla_revenue['Revenue'].str.replace(',|\\$',\"\", regex=True)"
      ],
      "execution_count": 12
    },
    {
      "cell_type": "markdown",
      "metadata": {
        "id": "282e356a-3047-4198-97cd-d137a8c85d11"
      },
      "source": [
        "Execute the following lines to remove an null or empty strings in the Revenue column.\n"
      ]
    },
    {
      "cell_type": "code",
      "metadata": {
        "id": "0da190fa-4789-4f76-92cb-98181c9f9add"
      },
      "outputs": [],
      "source": [
        "tesla_revenue.dropna(inplace=True)\n",
        "\n",
        "tesla_revenue = tesla_revenue[tesla_revenue['Revenue'] != \"\"]"
      ],
      "execution_count": 13
    },
    {
      "cell_type": "markdown",
      "metadata": {
        "id": "8201fd00-480f-4f06-a423-bc34b8da1ab6"
      },
      "source": [
        "Display the last 5 row of the `tesla_revenue` dataframe using the `tail` function. Take a screenshot of the results.\n"
      ]
    },
    {
      "cell_type": "code",
      "metadata": {
        "colab": {
          "base_uri": "https://localhost:8080/"
        },
        "id": "58f0d1b4-ab70-47ee-83b3-28ddd62ec96d",
        "outputId": "bc1dfab3-5bf8-4f60-b7b6-62b34b87ed79"
      },
      "outputs": [
        {
          "output_type": "stream",
          "name": "stdout",
          "text": [
            "          Date Revenue\n",
            "48  2010-09-30      31\n",
            "49  2010-06-30      28\n",
            "50  2010-03-31      21\n",
            "52  2009-09-30      46\n",
            "53  2009-06-30      27\n"
          ]
        }
      ],
      "source": [
        "print(tesla_revenue.tail(5))"
      ],
      "execution_count": 14
    },
    {
      "cell_type": "markdown",
      "metadata": {
        "id": "eee79fef-dd0f-4ced-9fd6-3ef923cbaef6"
      },
      "source": [
        "## Question 3: Use yfinance to Extract Stock Data\n"
      ]
    },
    {
      "cell_type": "markdown",
      "metadata": {
        "id": "b36a0fc1-5a14-4080-983f-f9d20f4b960a"
      },
      "source": [
        "Using the `Ticker` function enter the ticker symbol of the stock we want to extract data on to create a ticker object. The stock is GameStop and its ticker symbol is `GME`.\n"
      ]
    },
    {
      "cell_type": "code",
      "metadata": {
        "id": "d3da8ea9-4fd2-402a-87ce-f047ecbfd655"
      },
      "outputs": [],
      "source": [
        "import yfinance as yf\n",
        "\n",
        "# Create a ticker object for GameStop (GME)\n",
        "ticker = yf.Ticker(\"GME\")"
      ],
      "execution_count": 15
    },
    {
      "cell_type": "markdown",
      "metadata": {
        "id": "cfef197e-5e2e-4ae0-9ac5-2f26295c6527"
      },
      "source": [
        "Using the ticker object and the function `history` extract stock information and save it in a dataframe named `gme_data`. Set the `period` parameter to ` \"max\" ` so we get information for the maximum amount of time.\n"
      ]
    },
    {
      "cell_type": "code",
      "metadata": {
        "id": "f2eebdf3-0a4f-4b9c-928c-293db2265b3c"
      },
      "outputs": [],
      "source": [
        "gme_data = ticker.history(period=\"max\")"
      ],
      "execution_count": 16
    },
    {
      "cell_type": "markdown",
      "metadata": {
        "id": "14cc4c21-408f-4aee-9f4e-865971d98933"
      },
      "source": [
        "**Reset the index** using the `reset_index(inplace=True)` function on the gme_data DataFrame and display the first five rows of the `gme_data` dataframe using the `head` function. Take a screenshot of the results and code from the beginning of Question 3 to the results below.\n"
      ]
    },
    {
      "cell_type": "code",
      "metadata": {
        "colab": {
          "base_uri": "https://localhost:8080/"
        },
        "id": "deab424e-5f92-499d-bd5d-edd60e337123",
        "outputId": "ab3197fa-bbe4-4e73-bea1-351a5d061aff"
      },
      "outputs": [
        {
          "output_type": "stream",
          "name": "stdout",
          "text": [
            "                       Date      Open      High       Low     Close    Volume  \\\n",
            "0 2002-02-13 00:00:00-05:00  1.620129  1.693350  1.603296  1.691667  76216000   \n",
            "1 2002-02-14 00:00:00-05:00  1.712707  1.716073  1.670626  1.683250  11021600   \n",
            "2 2002-02-15 00:00:00-05:00  1.683250  1.687458  1.658002  1.674834   8389600   \n",
            "3 2002-02-19 00:00:00-05:00  1.666418  1.666418  1.578047  1.607504   7410400   \n",
            "4 2002-02-20 00:00:00-05:00  1.615920  1.662210  1.603296  1.662210   6892800   \n",
            "\n",
            "   Dividends  Stock Splits  \n",
            "0        0.0           0.0  \n",
            "1        0.0           0.0  \n",
            "2        0.0           0.0  \n",
            "3        0.0           0.0  \n",
            "4        0.0           0.0  \n"
          ]
        }
      ],
      "source": [
        "gme_data.reset_index(inplace=True)\n",
        "print(gme_data.head())"
      ],
      "execution_count": 17
    },
    {
      "cell_type": "markdown",
      "metadata": {
        "id": "0f2a1ecc-ce26-4c62-aa82-a55ab6631d0b"
      },
      "source": [
        "## Question 4: Use Webscraping to Extract GME Revenue Data\n"
      ]
    },
    {
      "cell_type": "markdown",
      "metadata": {
        "id": "0bd2faeb-66af-4b0c-b1c9-6090cc67f027"
      },
      "source": [
        "Use the `requests` library to download the webpage https://cf-courses-data.s3.us.cloud-object-storage.appdomain.cloud/IBMDeveloperSkillsNetwork-PY0220EN-SkillsNetwork/labs/project/stock.html. Save the text of the response as a variable named `html_data_2`.\n"
      ]
    },
    {
      "cell_type": "code",
      "metadata": {
        "id": "3a54bc5a-9236-448b-8586-8dacb3c0838b"
      },
      "outputs": [],
      "source": [
        "import requests\n",
        "\n",
        "# Download the webpage\n",
        "url_2 = 'https://cf-courses-data.s3.us.cloud-object-storage.appdomain.cloud/IBMDeveloperSkillsNetwork-PY0220EN-SkillsNetwork/labs/project/stock.html'\n",
        "response_2 = requests.get(url_2)\n",
        "html_data_2 = response_2.text"
      ],
      "execution_count": 18
    },
    {
      "cell_type": "markdown",
      "metadata": {
        "id": "8ba80a9d-9da4-4305-9d75-349553c195e9"
      },
      "source": [
        "Parse the html data using `beautiful_soup` using parser i.e `html5lib` or `html.parser`.\n"
      ]
    },
    {
      "cell_type": "code",
      "metadata": {
        "id": "7b9071cc-605a-4401-99b7-24a57cdfa119"
      },
      "outputs": [],
      "source": [
        "from bs4 import BeautifulSoup\n",
        "\n",
        "# Parse the HTML data\n",
        "soup_2 = BeautifulSoup(html_data_2, 'html.parser')"
      ],
      "execution_count": 19
    },
    {
      "cell_type": "markdown",
      "metadata": {
        "id": "f0eeb02d-8e59-4f48-86b1-76896b557b45"
      },
      "source": [
        "Using `BeautifulSoup` or the `read_html` function extract the table with `GameStop Revenue` and store it into a dataframe named `gme_revenue`. The dataframe should have columns `Date` and `Revenue`. Make sure the comma and dollar sign is removed from the `Revenue` column.\n"
      ]
    },
    {
      "cell_type": "markdown",
      "metadata": {
        "id": "12813bb0-d8bb-4a73-814e-42b019bb93d0"
      },
      "source": [
        "> **Note: Use the method similar to what you did in question 2.**  \n"
      ]
    },
    {
      "cell_type": "markdown",
      "metadata": {
        "id": "85b7f204-041c-4ce4-88c3-7ae6a4f03a74"
      },
      "source": [
        "<details><summary>Click here if you need help locating the table</summary>\n",
        "\n",
        "```\n",
        "    \n",
        "Below is the code to isolate the table, you will now need to loop through the rows and columns like in the previous lab\n",
        "    \n",
        "soup.find_all(\"tbody\")[1]\n",
        "    \n",
        "If you want to use the read_html function the table is located at index 1\n",
        "\n",
        "\n",
        "```\n",
        "\n",
        "</details>\n"
      ]
    },
    {
      "cell_type": "code",
      "metadata": {
        "colab": {
          "base_uri": "https://localhost:8080/"
        },
        "id": "e1ddcbc3-5917-472b-990f-cfc1dd4adda0",
        "outputId": "ede195d9-6be8-4118-ae0a-119ab4c89d84"
      },
      "outputs": [
        {
          "output_type": "stream",
          "name": "stdout",
          "text": [
            "Index(['GameStop Annual Revenue (Millions of US $)', 'GameStop Annual Revenue (Millions of US $).1'], dtype='object')\n",
            "    GameStop Annual Revenue (Millions of US $)  \\\n",
            "11                                        2009   \n",
            "12                                        2008   \n",
            "13                                        2007   \n",
            "14                                        2006   \n",
            "15                                        2005   \n",
            "\n",
            "   GameStop Annual Revenue (Millions of US $).1  \n",
            "11                                       $8,806  \n",
            "12                                       $7,094  \n",
            "13                                       $5,319  \n",
            "14                                       $3,092  \n",
            "15                                       $1,843  \n"
          ]
        }
      ],
      "source": [
        "import requests\n",
        "from bs4 import BeautifulSoup\n",
        "import pandas as pd\n",
        "\n",
        "# Download the webpage\n",
        "url_2 = 'https://cf-courses-data.s3.us.cloud-object-storage.appdomain.cloud/IBMDeveloperSkillsNetwork-PY0220EN-SkillsNetwork/labs/project/stock.html'\n",
        "response_2 = requests.get(url_2)\n",
        "html_data_2 = response_2.text\n",
        "\n",
        "# Parse the HTML data\n",
        "soup_2 = BeautifulSoup(html_data_2, 'html.parser')\n",
        "\n",
        "# Extract the table with GameStop Revenue\n",
        "table_2 = soup_2.find_all('table')[0]  # Adjust index if necessary\n",
        "gme_revenue = pd.read_html(str(table_2))[0]\n",
        "\n",
        "# Print columns to verify their names\n",
        "print(gme_revenue.columns)\n",
        "\n",
        "# Clean the Revenue column (adjust column name if necessary)\n",
        "# For example, if the column name is 'Revenue ' with a trailing space\n",
        "if 'Revenue ' in gme_revenue.columns:\n",
        "    gme_revenue['Revenue '] = gme_revenue['Revenue '].str.replace(',|\\$', '', regex=True)\n",
        "elif 'Revenue' in gme_revenue.columns:\n",
        "    gme_revenue['Revenue'] = gme_revenue['Revenue'].str.replace(',|\\$', '', regex=True)\n",
        "\n",
        "# Display the last five rows of the DataFrame\n",
        "print(gme_revenue.tail())"
      ],
      "execution_count": 20
    },
    {
      "cell_type": "markdown",
      "metadata": {
        "id": "ca16878d-90c9-48a6-9516-3af246d13781"
      },
      "source": [
        "Display the last five rows of the `gme_revenue` dataframe using the `tail` function. Take a screenshot of the results.\n"
      ]
    },
    {
      "cell_type": "code",
      "metadata": {
        "colab": {
          "base_uri": "https://localhost:8080/"
        },
        "id": "ee03fbe2-54cb-42dd-a0c7-f91e33f81b84",
        "outputId": "f6e8f53e-43cf-43e9-df04-12c90c1e50eb"
      },
      "outputs": [
        {
          "output_type": "stream",
          "name": "stdout",
          "text": [
            "    GameStop Annual Revenue (Millions of US $)  \\\n",
            "11                                        2009   \n",
            "12                                        2008   \n",
            "13                                        2007   \n",
            "14                                        2006   \n",
            "15                                        2005   \n",
            "\n",
            "   GameStop Annual Revenue (Millions of US $).1  \n",
            "11                                       $8,806  \n",
            "12                                       $7,094  \n",
            "13                                       $5,319  \n",
            "14                                       $3,092  \n",
            "15                                       $1,843  \n"
          ]
        }
      ],
      "source": [
        "print(gme_revenue.tail())"
      ],
      "execution_count": 21
    },
    {
      "cell_type": "markdown",
      "metadata": {
        "id": "fd83e0c6-cf8c-470e-bf21-c788bbbe5c18"
      },
      "source": [
        "## Question 5: Plot Tesla Stock Graph\n"
      ]
    },
    {
      "cell_type": "markdown",
      "metadata": {
        "id": "e53bfab4-d856-4127-9fe5-46bc410c3f80"
      },
      "source": [
        "Use the `make_graph` function to graph the Tesla Stock Data, also provide a title for the graph. Note the graph will only show data upto June 2021.\n"
      ]
    },
    {
      "cell_type": "markdown",
      "metadata": {
        "id": "cef65dfb-db27-4fd1-bd87-0952d8e6b3c6"
      },
      "source": [
        "<details><summary>Hint</summary>\n",
        "\n",
        "```\n",
        "\n",
        "You just need to invoke the make_graph function with the required parameter to print the graphs.The structure to call the `make_graph` function is `make_graph(tesla_data, tesla_revenue, 'Tesla')`.\n",
        "\n",
        "```\n",
        "    \n",
        "</details>\n"
      ]
    },
    {
      "cell_type": "code",
      "metadata": {
        "colab": {
          "base_uri": "https://localhost:8080/",
          "height": 581
        },
        "id": "6ba792ed-ab97-4739-afed-610df150eec2",
        "outputId": "c4283edc-8afc-4560-c4c6-f0876cfad24a"
      },
      "outputs": [
        {
          "output_type": "stream",
          "name": "stderr",
          "text": [
            "\r[*********************100%***********************]  1 of 1 completed\n"
          ]
        },
        {
          "output_type": "display_data",
          "data": {
            "text/plain": [
              "<Figure size 1200x600 with 1 Axes>"
            ],
            "image/png": "[encoded data removed]"
          },
          "metadata": {}
        }
      ],
      "source": [
        "import yfinance as yf\n",
        "import matplotlib.pyplot as plt\n",
        "\n",
        "def make_graph(stock_data):\n",
        "    plt.figure(figsize=(12, 6))\n",
        "    plt.plot(stock_data.index, stock_data['Close'], label='Close Price')\n",
        "    plt.title('Tesla (TSLA) Stock Price')\n",
        "    plt.xlabel('Date')\n",
        "    plt.ylabel('Stock Price (USD)')\n",
        "    plt.legend()\n",
        "    plt.grid(True)\n",
        "    plt.show()\n",
        "\n",
        "tesla_data = yf.download('TSLA', period='max')\n",
        "\n",
        "make_graph(tesla_data)"
      ],
      "execution_count": 23
    },
    {
      "cell_type": "markdown",
      "metadata": {
        "id": "894de5f3-4739-4d7e-b099-6ebd9bfe51a9"
      },
      "source": [
        "## Question 6: Plot GameStop Stock Graph\n"
      ]
    },
    {
      "cell_type": "markdown",
      "metadata": {
        "id": "8dffc84a-6692-4478-a0b0-6bd713cdb576"
      },
      "source": [
        "Use the `make_graph` function to graph the GameStop Stock Data, also provide a title for the graph. The structure to call the `make_graph` function is `make_graph(gme_data, gme_revenue, 'GameStop')`. Note the graph will only show data upto June 2021.\n"
      ]
    },
    {
      "cell_type": "markdown",
      "metadata": {
        "id": "f8d4f91f-aa8e-4430-bff4-d9427ee9e553"
      },
      "source": [
        "<details><summary>Hint</summary>\n",
        "\n",
        "```\n",
        "\n",
        "You just need to invoke the make_graph function with the required parameter to print the graphs.The structure to call the `make_graph` function is `make_graph(gme_data, gme_revenue, 'GameStop')`\n",
        "\n",
        "```\n",
        "    \n",
        "</details>\n"
      ]
    },
    {
      "cell_type": "code",
      "metadata": {
        "colab": {
          "base_uri": "https://localhost:8080/",
          "height": 581
        },
        "id": "c1acbfc7-05af-46e5-ac8d-ab60ef6a8aa3",
        "outputId": "98ed0205-7464-4efa-e45a-350fd4d29afe"
      },
      "outputs": [
        {
          "output_type": "stream",
          "name": "stderr",
          "text": [
            "\r[*********************100%***********************]  1 of 1 completed\n"
          ]
        },
        {
          "output_type": "display_data",
          "data": {
            "text/plain": [
              "<Figure size 1200x600 with 1 Axes>"
            ],
            "image/png": "[encoded data removed]"
          },
          "metadata": {}
        }
      ],
      "source": [
        "import yfinance as yf\n",
        "import matplotlib.pyplot as plt\n",
        "\n",
        "def make_graph(stock_data):\n",
        "    plt.figure(figsize=(12, 6))\n",
        "    plt.plot(stock_data.index, stock_data['Close'], label='Close Price', color='b')\n",
        "    plt.title('GameStop (GME) Stock Price')\n",
        "    plt.xlabel('Date')\n",
        "    plt.ylabel('Stock Price (USD)')\n",
        "    plt.legend()\n",
        "    plt.grid(True)\n",
        "    plt.show()\n",
        "\n",
        "gme_data = yf.download('GME', period='max')\n",
        "make_graph(gme_data)"
      ],
      "execution_count": 24
    },
    {
      "cell_type": "markdown",
      "metadata": {
        "id": "90719df3-5716-43b1-853f-d71b18da37db"
      },
      "source": [
        "<h2>About the Authors:</h2>\n",
        "\n",
        "<a href=\"https://www.linkedin.com/in/joseph-s-50398b136/\">Joseph Santarcangelo</a> has a PhD in Electrical Engineering, his research focused on using machine learning, signal processing, and computer vision to determine how videos impact human cognition. Joseph has been working for IBM since he completed his PhD.\n"
      ]
    },
    {
      "cell_type": "markdown",
      "metadata": {
        "id": "1680e1e8-45cd-4f15-95ec-8b6afde9a8e1"
      },
      "source": [
        "## <h3 align=\"center\"> © IBM Corporation 2020. All rights reserved. <h3/>\n",
        "\n",
        "```toggle ## Change Log\n",
        "```\n",
        "```toggle | Date (YYYY-MM-DD) | Version | Changed By    | Change Description        |\n",
        "```\n",
        "```toggle | ----------------- | ------- | ------------- | ------------------------- |\n",
        "```\n",
        "```toggle | 2022-02-28        | 1.2     | Lakshmi Holla | Changed the URL of GameStop |\n",
        "```\n",
        "```toggle | 2020-11-10        | 1.1     | Malika Singla | Deleted the Optional part |\n",
        "```\n",
        "```toggle | 2020-08-27        | 1.0     | Malika Singla | Added lab to GitLab       |\n",
        "```\n"
      ]
    }
  ],
  "metadata": {
    "kernelspec": {
      "display_name": "Python 3 (ipykernel)",
      "language": "python",
      "name": "python3"
    },
    "language_info": {
      "codemirror_mode": {
        "name": "ipython",
        "version": 3
      },
      "file_extension": ".py",
      "mimetype": "text/x-python",
      "name": "python",
      "nbconvert_exporter": "python",
      "pygments_lexer": "ipython3",
      "version": "3.11.9"
    },
    "prev_pub_hash": "3eff379447b11bb93fcfe9128340484c280bbca92c51ece98405a1f05537425b",
    "colab": {
      "provenance": []
    }
  },
  "nbformat": 4,
  "nbformat_minor": 0
}